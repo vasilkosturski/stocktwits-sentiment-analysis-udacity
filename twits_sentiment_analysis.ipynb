{
  "cells": [
    {
      "cell_type": "markdown",
      "metadata": {
        "id": "nNOtqNG-FVSv"
      },
      "source": [
        "# Sentiment Analysis of Stocktwits Messages using LSTM in PyTorch\n",
        "\n",
        "## Introduction\n",
        "When deciding the value of a company, it's important to follow the news. For example, a product recall or natural disaster in a company's product chain. You want to be able to turn this information into a signal. Currently, the best tool for the job is a Neural Network. \n",
        "\n",
        "For this project, you'll use posts from the social media site [StockTwits](https://en.wikipedia.org/wiki/StockTwits). The community on StockTwits is full of investors, traders, and entrepreneurs. Each message posted is called a Twit. This is similar to Twitter's version of a post, called a Tweet. You'll build a model around these twits that generate a sentiment score.\n",
        "\n",
        "We've collected a bunch of twits, then hand labeled the sentiment of each. To capture the degree of sentiment, we'll use a five-point scale: very negative, negative, neutral, positive, very positive. Each twit is labeled -2 to 2 in steps of 1, from very negative to very positive respectively. You'll build a sentiment analysis model that will learn to assign sentiment to twits on its own, using this labeled data.\n",
        "\n",
        "The first thing we should to do, is load the data.\n",
        "\n",
        "### Load Packages"
      ]
    },
    {
      "cell_type": "code",
      "execution_count": 1,
      "metadata": {
        "id": "t2jkb2UoFVSy"
      },
      "outputs": [],
      "source": [
        "import json\n",
        "import nltk\n",
        "import os\n",
        "import random\n",
        "import re\n",
        "import torch\n",
        "import numpy as np\n",
        "import pickle\n",
        "\n",
        "from torch import nn, optim\n",
        "import torch.nn.functional as F"
      ]
    },
    {
      "cell_type": "markdown",
      "metadata": {
        "id": "rC1l29bOFVSz"
      },
      "source": [
        "## Import Twits \n",
        "### Load Twits Data \n",
        "This JSON file contains a list of objects for each twit in the `'data'` field:\n",
        "\n",
        "```\n",
        "{'data':\n",
        "  {'message_body': 'Neutral twit body text here',\n",
        "   'sentiment': 0},\n",
        "  {'message_body': 'Happy twit body text here',\n",
        "   'sentiment': 1},\n",
        "   ...\n",
        "}\n",
        "```\n",
        "\n",
        "The fields represent the following:\n",
        "\n",
        "* `'message_body'`: The text of the twit.\n",
        "* `'sentiment'`: Sentiment score for the twit, ranges from -2 to 2 in steps of 1, with 0 being neutral. "
      ]
    },
    {
      "cell_type": "markdown",
      "source": [
        "Let's add a few helpful methods for storing and loading files publicly accessible on the internet or saved on the file system. They will be handy later on when we'd like to load pre-saved data in order to spare some processing time."
      ],
      "metadata": {
        "id": "rR-lVcC3X1zM"
      }
    },
    {
      "cell_type": "code",
      "execution_count": 2,
      "metadata": {
        "id": "xRsNlj8Q0q-U"
      },
      "outputs": [],
      "source": [
        "import json\n",
        "import urllib.request\n",
        "\n",
        "def save_file_if_missing(filename):\n",
        "  if not os.path.exists(filename):\n",
        "    response = load_file_from_external_source(filename)\n",
        "    with open(filename, 'wb') as fp:\n",
        "      fp.write(response.read())\n",
        "\n",
        "def load_file_from_external_source(filename):\n",
        "  if not os.path.exists(filename):\n",
        "    URL = f'https://vkontech.com/post-sentiment-analysis/{filename}'\n",
        "    request = urllib.request.Request(URL)\n",
        "    # These headers are required as a workaround to download public files from Wordpress\n",
        "    request.add_header('User-Agent', 'Mozilla/5.0 (Macintosh; Intel Mac OS X 10_10_1) AppleWebKit/537.36 (KHTML, like Gecko) Chrome/39.0.2171.95 Safari/537.36')\n",
        "    resp = urllib.request.urlopen(request)\n",
        "    return resp\n",
        "\n",
        "def save_object_to_file(filename, content):\n",
        "  with open(filename, 'wb') as fp:\n",
        "      pickle.dump(content, fp)\n",
        "\n",
        "def load_object_from_file(filename):\n",
        "  with open(filename, 'rb') as fp:\n",
        "    return pickle.load(fp)\n"
      ]
    },
    {
      "cell_type": "markdown",
      "source": [
        "Let's load the twits and print a few to the output."
      ],
      "metadata": {
        "id": "eLuJpc1FXha2"
      }
    },
    {
      "cell_type": "code",
      "execution_count": 3,
      "metadata": {
        "colab": {
          "base_uri": "https://localhost:8080/"
        },
        "id": "sfmw3YbAKGPA",
        "outputId": "ec85b7f9-c063-46f7-cbe6-ae3ede230880"
      },
      "outputs": [
        {
          "output_type": "execute_result",
          "data": {
            "text/plain": [
              "[{'message_body': '$FITB great buy at 26.00...ill wait',\n",
              "  'sentiment': 2,\n",
              "  'timestamp': '2018-07-01T00:00:09Z'},\n",
              " {'message_body': '@StockTwits $MSFT',\n",
              "  'sentiment': 1,\n",
              "  'timestamp': '2018-07-01T00:00:42Z'},\n",
              " {'message_body': '#STAAnalystAlert for $TDG : Jefferies Maintains with a rating of Hold setting target price at USD 350.00. Our own verdict is Buy  http://www.stocktargetadvisor.com/toprating',\n",
              "  'sentiment': 2,\n",
              "  'timestamp': '2018-07-01T00:01:24Z'},\n",
              " {'message_body': '$AMD I heard there’s a guy who knows someone who thinks somebody knows something - on StockTwits.',\n",
              "  'sentiment': 1,\n",
              "  'timestamp': '2018-07-01T00:01:47Z'},\n",
              " {'message_body': '$AMD reveal yourself!',\n",
              "  'sentiment': 0,\n",
              "  'timestamp': '2018-07-01T00:02:13Z'}]"
            ]
          },
          "metadata": {},
          "execution_count": 3
        }
      ],
      "source": [
        "twits_filename = 'twits.json'\n",
        "if not os.path.exists(twits_filename):\n",
        "  response = load_file_from_external_source(twits_filename)\n",
        "  twits = json.load(response)\n",
        "  save_object_to_file(twits_filename, twits)\n",
        "else:\n",
        "  twits = load_object_from_file(twits_filename)\n",
        "\n",
        "twits['data'][:5]"
      ]
    },
    {
      "cell_type": "markdown",
      "metadata": {
        "id": "etvdv3svFVS1"
      },
      "source": [
        "### Length of Data\n",
        "Now let's look at the number of twits in dataset."
      ]
    },
    {
      "cell_type": "code",
      "execution_count": 4,
      "metadata": {
        "colab": {
          "base_uri": "https://localhost:8080/"
        },
        "id": "H8CuOpKvFVS2",
        "outputId": "c6acdf2e-bc1d-4739-d93d-60ba4a67dd73"
      },
      "outputs": [
        {
          "output_type": "execute_result",
          "data": {
            "text/plain": [
              "1548010"
            ]
          },
          "metadata": {},
          "execution_count": 4
        }
      ],
      "source": [
        "len(twits['data'])"
      ]
    },
    {
      "cell_type": "markdown",
      "metadata": {
        "id": "zXwlxjGyFVS2"
      },
      "source": [
        "### Split Message Body and Sentiment Score"
      ]
    },
    {
      "cell_type": "code",
      "execution_count": 5,
      "metadata": {
        "id": "IrfC4yVbFVS3"
      },
      "outputs": [],
      "source": [
        "messages = [twit['message_body'] for twit in twits['data']]\n",
        "# Since the sentiment scores are discrete, we'll scale the sentiments to 0 to 4 for use in our network\n",
        "sentiments = [twit['sentiment'] + 2 for twit in twits['data']]"
      ]
    },
    {
      "cell_type": "markdown",
      "metadata": {
        "id": "5RlajopyFVS3"
      },
      "source": [
        "## Preprocessing the Data\n",
        "With our data in hand we need to preprocess our text. These twits are collected by filtering on ticker symbols where these are denoted with a leader $ symbol in the twit itself. For example,\n",
        "\n",
        "`{'message_body': 'RT @google Our annual look at the year in Google blogging (and beyond) http://t.co/sptHOAh8 $GOOG',\n",
        " 'sentiment': 0}`\n",
        "\n",
        "The ticker symbols don't provide information on the sentiment, and they are in every twit, so we should remove them. This twit also has the `@google` username, again not providing sentiment information, so we should also remove it. We also see a URL `http://t.co/sptHOAh8`. Let's remove these too.\n",
        "\n",
        "The easiest way to remove specific words or phrases is with regex using the `re` module. You can sub out specific patterns with a space:\n",
        "\n",
        "```python\n",
        "re.sub(pattern, ' ', text)\n",
        "```\n",
        "This will substitute a space with anywhere the pattern matches in the text. Later when we tokenize the text, we'll split appropriately on those spaces."
      ]
    },
    {
      "cell_type": "markdown",
      "metadata": {
        "id": "pGYQ5FjyFVS4"
      },
      "source": [
        "### Pre-Processing"
      ]
    },
    {
      "cell_type": "code",
      "execution_count": 6,
      "metadata": {
        "colab": {
          "base_uri": "https://localhost:8080/"
        },
        "id": "8nSn7JC1FVS4",
        "outputId": "5f4133d6-0216-44b1-8bb7-efe6102b7b3e"
      },
      "outputs": [
        {
          "output_type": "stream",
          "name": "stderr",
          "text": [
            "[nltk_data] Downloading package wordnet to /root/nltk_data...\n",
            "[nltk_data]   Package wordnet is already up-to-date!\n",
            "[nltk_data] Downloading package punkt to /root/nltk_data...\n",
            "[nltk_data]   Package punkt is already up-to-date!\n",
            "[nltk_data] Downloading package omw-1.4 to /root/nltk_data...\n",
            "[nltk_data]   Package omw-1.4 is already up-to-date!\n"
          ]
        }
      ],
      "source": [
        "nltk.download('wordnet')\n",
        "nltk.download('punkt')\n",
        "nltk.download('omw-1.4')\n",
        "\n",
        "\n",
        "def preprocess(message):\n",
        "    \"\"\"\n",
        "    This function takes a string as input, then performs these operations: \n",
        "        - lowercase\n",
        "        - remove URLs\n",
        "        - remove ticker symbols \n",
        "        - removes punctuation\n",
        "        - tokenize by splitting the string on whitespace \n",
        "        - removes any single character tokens\n",
        "    \n",
        "    Parameters\n",
        "    ----------\n",
        "        message : The text message to be preprocessed.\n",
        "        \n",
        "    Returns\n",
        "    -------\n",
        "        tokens: The preprocessed text into tokens.\n",
        "    \"\"\"\n",
        "    \n",
        "    # Lowercase the twit message\n",
        "    text = message.lower()\n",
        "    \n",
        "    # Replace URLs with a space in the message\n",
        "    text = re.sub(r'https?://\\S+', ' ', text)\n",
        "    \n",
        "    # Replace ticker symbols with a space. The ticker symbols are any stock symbol that starts with $.\n",
        "    text = re.sub(r'\\$\\S+', ' ', text)\n",
        "    \n",
        "    # Replace StockTwits usernames with a space. The usernames are any word that starts with @.\n",
        "    text = re.sub(r'\\@\\S+', ' ', text)\n",
        "\n",
        "    # Replace everything not a letter with a space\n",
        "    text = re.sub(r'[^a-zA-Z]', ' ', text)\n",
        "    \n",
        "    # Tokenize by splitting the string on whitespace into a list of words\n",
        "    tokens = nltk.tokenize.word_tokenize(text)\n",
        "\n",
        "    # Lemmatize words using the WordNetLemmatizer. You can ignore any word that is not longer than one character.\n",
        "    wnl = nltk.stem.WordNetLemmatizer()\n",
        "    tokens = [wnl.lemmatize(token) for token in tokens if len(token) > 1]\n",
        "\n",
        "    \n",
        "    assert type(tokens) == list, 'Tokens should be list'\n",
        "    return tokens"
      ]
    },
    {
      "cell_type": "markdown",
      "metadata": {
        "id": "_eVvQnMYFVS5"
      },
      "source": [
        "### Preprocess All the Twits \n",
        "Now we can preprocess each of the twits in our dataset."
      ]
    },
    {
      "cell_type": "code",
      "execution_count": 7,
      "metadata": {
        "id": "ADWV-KzhxyUT"
      },
      "outputs": [],
      "source": [
        "load_saved_token_list = True"
      ]
    },
    {
      "cell_type": "code",
      "execution_count": 8,
      "metadata": {
        "colab": {
          "base_uri": "https://localhost:8080/"
        },
        "id": "TmCgs9c1wKMA",
        "outputId": "3bb4dc0b-129a-4399-9823-cea538d35a42"
      },
      "outputs": [
        {
          "output_type": "execute_result",
          "data": {
            "text/plain": [
              "[['great', 'buy', 'at', 'ill', 'wait'],\n",
              " [],\n",
              " ['staanalystalert',\n",
              "  'for',\n",
              "  'jefferies',\n",
              "  'maintains',\n",
              "  'with',\n",
              "  'rating',\n",
              "  'of',\n",
              "  'hold',\n",
              "  'setting',\n",
              "  'target',\n",
              "  'price',\n",
              "  'at',\n",
              "  'usd',\n",
              "  'our',\n",
              "  'own',\n",
              "  'verdict',\n",
              "  'is',\n",
              "  'buy']]"
            ]
          },
          "metadata": {},
          "execution_count": 8
        }
      ],
      "source": [
        "tokenized_twits_filename = 'tokenList'\n",
        "\n",
        "if load_saved_token_list:\n",
        "  save_file_if_missing(tokenized_twits_filename)\n",
        "else:\n",
        "  tokenized_twits = [preprocess(message) for message in messages]\n",
        "  save_object_to_file(tokenized_twits_filename, tokenized_twits)\n",
        "\n",
        "tokenized_twits = load_object_from_file(tokenized_twits_filename)\n",
        "\n",
        "tokenized_twits[:3]"
      ]
    },
    {
      "cell_type": "markdown",
      "metadata": {
        "id": "_f4TGRYkFVS6"
      },
      "source": [
        "### Bag of Words\n",
        "Now with all of our messages tokenized, we want to create a vocabulary and count up how often each word appears in our entire corpus. Use the [`Counter`](https://docs.python.org/3.1/library/collections.html#collections.Counter) function to count up all the tokens."
      ]
    },
    {
      "cell_type": "code",
      "execution_count": 9,
      "metadata": {
        "id": "ZleThOdTFVS6"
      },
      "outputs": [],
      "source": [
        "from collections import Counter\n",
        "\n",
        "\"\"\"\n",
        "Create a vocabulary by using Bag of words\n",
        "\"\"\"\n",
        "\n",
        "tokenized_words = [word for twit in tokenized_twits for word in twit]\n",
        "\n",
        "bow = Counter(tokenized_words)"
      ]
    },
    {
      "cell_type": "markdown",
      "metadata": {
        "id": "30-szgXQFVS6"
      },
      "source": [
        "### Frequency of Words Appearing in Message\n",
        "With our vocabulary, now we'll remove some of the most common words such as 'the', 'and', 'it', etc. These words don't contribute to identifying sentiment and are really common, resulting in a lot of noise in our input. If we can filter these out, then our network should have an easier time learning.\n",
        "\n",
        "We also want to remove really rare words that show up in a only a few twits. Here you'll want to divide the count of each word by the **number of messages** calculated in the code block above (i.e. `len(messages))`. Then remove words that only appear in some small fraction of the messages.\n",
        "\n",
        ">Note: There is not an exact number for low and high-frequency cut-offs, however there is a correct optimal range.\n",
        "You should ideally set up low-frequency cut-off from 0.0000002 to 0.000007 (inclusive) and high-frequency from 5 to 20 (inclusive). If the number is too big, we lose lots of important words that we can use in our data."
      ]
    },
    {
      "cell_type": "code",
      "execution_count": 10,
      "metadata": {
        "id": "2k6ai7rfFVS6",
        "colab": {
          "base_uri": "https://localhost:8080/"
        },
        "outputId": "871d5c7f-b3ca-4e86-f282-8d72f571a57b"
      },
      "outputs": [
        {
          "output_type": "stream",
          "name": "stdout",
          "text": [
            "['the', 'to', 'is', 'for', 'on', 'of', 'and', 'in', 'this', 'it', 'at', 'will', 'up', 'are', 'you']\n"
          ]
        },
        {
          "output_type": "execute_result",
          "data": {
            "text/plain": [
              "98359"
            ]
          },
          "metadata": {},
          "execution_count": 10
        }
      ],
      "source": [
        "\"\"\"\n",
        "Set the following variables:\n",
        "    freqs\n",
        "    low_cutoff\n",
        "    high_cutoff\n",
        "    K_most_common\n",
        "\"\"\"\n",
        "\n",
        "# Dictionary that contains the Frequency of words appearing in messages.\n",
        "# The key is the token and the value is the frequency of that word in the corpus.\n",
        "total_cnt = sum(bow.values())\n",
        "freqs = dict(bow)\n",
        "\n",
        "# Float that is the frequency cutoff. Drop words with a frequency that is lower or equal to this number.\n",
        "low_cutoff = 5e-6\n",
        "\n",
        "# Integer that is the cut off for most common words. Drop words that are the `high_cutoff` most common words.\n",
        "high_cutoff = 15\n",
        "\n",
        "# The k most common words in the corpus. Use `high_cutoff` as the k.\n",
        "K_most_common = [word[0] for word in bow.most_common(high_cutoff)]\n",
        "\n",
        "\n",
        "filtered_words = [word for word in freqs if (freqs[word] > low_cutoff and word not in K_most_common)]\n",
        "print(K_most_common)\n",
        "len(filtered_words) "
      ]
    },
    {
      "cell_type": "markdown",
      "metadata": {
        "id": "OznqlkK4FVS7"
      },
      "source": [
        "### Updating Vocabulary by Removing Filtered Words\n",
        "Let's creat three variables that will help with our vocabulary."
      ]
    },
    {
      "cell_type": "code",
      "source": [
        "load_saved_filtered_twits = True"
      ],
      "metadata": {
        "id": "KTvt5esoZBf4"
      },
      "execution_count": 11,
      "outputs": []
    },
    {
      "cell_type": "code",
      "execution_count": 12,
      "metadata": {
        "id": "ZWjuGyMyFVS7"
      },
      "outputs": [],
      "source": [
        "\"\"\"\n",
        "Set the following variables:\n",
        "    vocab\n",
        "    id2vocab\n",
        "    filtered\n",
        "\"\"\"\n",
        "\n",
        "# A dictionary for the `filtered_words`. The key is the word and value is an id that represents the word. \n",
        "vocab = {word:idx+1 for idx, word in enumerate(filtered_words)}\n",
        "# Reverse of the `vocab` dictionary. The key is word id and value is the word. \n",
        "id2vocab = {idx:word for word, idx in vocab.items()}\n",
        "\n",
        "filtered_twits_filename = 'filteredTwits'\n",
        "\n",
        "if load_saved_filtered_twits:\n",
        "  save_file_if_missing(filtered_twits_filename)\n",
        "else:\n",
        "  filtered = []\n",
        "  for twit in tokenized_twits:\n",
        "    filtered.append([word for word in twit if word in filtered_words])\n",
        "  save_object_to_file(filtered)\n",
        "\n",
        "filtered = load_object_from_file(filtered_twits_filename)"
      ]
    },
    {
      "cell_type": "markdown",
      "metadata": {
        "id": "Ko3RJzs5FVS7"
      },
      "source": [
        "### Balancing the classes\n",
        "Let's do a few last pre-processing steps. If we look at how our twits are labeled, we'll find that 50% of them are neutral. This means that our network will be 50% accurate just by guessing 0 every single time. To help our network learn appropriately, we'll want to balance our classes.\n",
        "That is, make sure each of our different sentiment scores show up roughly as frequently in the data.\n",
        "\n",
        "We should also take this opportunity to remove messages with length 0."
      ]
    },
    {
      "cell_type": "code",
      "execution_count": 13,
      "metadata": {
        "id": "rslbfG0UFVS7"
      },
      "outputs": [],
      "source": [
        "balanced = {'messages': [], 'sentiments':[]}\n",
        "\n",
        "n_neutral = sum(1 for each in sentiments if each == 2)\n",
        "N_examples = len(sentiments)\n",
        "keep_prob = (N_examples - n_neutral)/4/n_neutral\n",
        "\n",
        "for idx, sentiment in enumerate(sentiments):\n",
        "    message = filtered[idx]\n",
        "    if len(message) == 0:\n",
        "        # skip this message because it has length zero\n",
        "        continue\n",
        "    elif sentiment != 2 or random.random() < keep_prob:\n",
        "        balanced['messages'].append(message)\n",
        "        balanced['sentiments'].append(sentiment) "
      ]
    },
    {
      "cell_type": "markdown",
      "metadata": {
        "id": "xzDpdgj5FVS8"
      },
      "source": [
        "Check we did it correctly"
      ]
    },
    {
      "cell_type": "code",
      "execution_count": 14,
      "metadata": {
        "id": "E_VJj7rBFVS8",
        "colab": {
          "base_uri": "https://localhost:8080/"
        },
        "outputId": "66985728-2ef9-4b98-d0dd-3e635a023133"
      },
      "outputs": [
        {
          "output_type": "execute_result",
          "data": {
            "text/plain": [
              "0.19516929090748764"
            ]
          },
          "metadata": {},
          "execution_count": 14
        }
      ],
      "source": [
        "n_neutral = sum(1 for each in balanced['sentiments'] if each == 2)\n",
        "N_examples = len(balanced['sentiments'])\n",
        "n_neutral/N_examples"
      ]
    },
    {
      "cell_type": "markdown",
      "metadata": {
        "id": "lkzCLtYLFVS8"
      },
      "source": [
        "Finally let's convert our tokens into integer ids which we can pass to the network."
      ]
    },
    {
      "cell_type": "code",
      "execution_count": 15,
      "metadata": {
        "id": "weCR5AiWFVS8"
      },
      "outputs": [],
      "source": [
        "token_ids = [[vocab[word] for word in message] for message in balanced['messages']]\n",
        "sentiments = balanced['sentiments']"
      ]
    },
    {
      "cell_type": "markdown",
      "metadata": {
        "id": "xEaRmn5LFVS8"
      },
      "source": [
        "## Neural Network\n",
        "Now we have our vocabulary which means we can transform our tokens into ids, which are then passed to our network. So, let's define the network now!\n",
        "\n",
        "The network architecture looks like so:\n"
      ]
    },
    {
      "cell_type": "markdown",
      "source": [
        "![Udacity-AI-LSTM.png](data:image/png;base64,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)"
      ],
      "metadata": {
        "id": "xE-eHp2H2XPq"
      }
    },
    {
      "cell_type": "markdown",
      "source": [
        "### Implement the text classifier\n",
        "The network consists of three main parts: 1) init function `__init__` 2) forward pass `forward`  3) hidden state `init_hidden`. \n",
        "\n",
        "We are using `softmax` to find the probability for each outcome."
      ],
      "metadata": {
        "id": "9aO9xkzn3OIj"
      }
    },
    {
      "cell_type": "code",
      "execution_count": 16,
      "metadata": {
        "id": "Q_zrPKbGFVS8",
        "colab": {
          "base_uri": "https://localhost:8080/"
        },
        "outputId": "5ee7faf4-fe69-4654-db20-3ab3b42c59a7"
      },
      "outputs": [
        {
          "output_type": "stream",
          "name": "stdout",
          "text": [
            "No GPU available, training on CPU.\n"
          ]
        }
      ],
      "source": [
        "train_on_gpu=torch.cuda.is_available()\n",
        "\n",
        "if(train_on_gpu):\n",
        "    print('Training on GPU.')\n",
        "else:\n",
        "    print('No GPU available, training on CPU.')"
      ]
    },
    {
      "cell_type": "code",
      "execution_count": 17,
      "metadata": {
        "id": "41y2HuQmFVS9"
      },
      "outputs": [],
      "source": [
        "class TextClassifier(nn.Module):\n",
        "    def __init__(self, vocab_size, embed_size, lstm_size, output_size, lstm_layers=1, dropout=0.1):\n",
        "        \"\"\"\n",
        "        Initialize the model by setting up the layers.\n",
        "        \n",
        "        Parameters\n",
        "        ----------\n",
        "            vocab_size : The vocabulary size.\n",
        "            embed_size : The embedding layer size.\n",
        "            lstm_size : The LSTM layer size.\n",
        "            output_size : The output size.\n",
        "            lstm_layers : The number of LSTM layers.\n",
        "            dropout : The dropout probability.\n",
        "        \"\"\"\n",
        "        \n",
        "        super().__init__()\n",
        "        self.vocab_size = vocab_size\n",
        "        self.embed_size = embed_size\n",
        "        self.lstm_size = lstm_size\n",
        "        self.output_size = output_size\n",
        "        self.lstm_layers = lstm_layers\n",
        "        self.dropout = dropout\n",
        "        \n",
        "        # Setup embedding layer ----------------------------------------------------------------------#\n",
        "        self.embedding = nn.Embedding(num_embeddings= self.vocab_size, \n",
        "                                      embedding_dim = self.embed_size)\n",
        "        \n",
        "        # Setup additional layers\n",
        "        self.lstm = nn.LSTM(input_size  = self.embed_size,\n",
        "                            hidden_size = self.lstm_size,\n",
        "                            num_layers  = self.lstm_layers,\n",
        "                            batch_first = False,\n",
        "                            dropout     = self.dropout)\n",
        "\n",
        "        self.dropout = nn.Dropout(p=0.3)\n",
        "        \n",
        "        self.fc = nn.Linear(in_features = self.lstm_size, \n",
        "                            out_features= self.output_size)\n",
        "        \n",
        "        self.log_smax = nn.LogSoftmax(dim=1)\n",
        "\n",
        "    def init_hidden(self, batch_size):\n",
        "        \"\"\" \n",
        "        Initializes hidden state\n",
        "        \n",
        "        Parameters\n",
        "        ----------\n",
        "            batch_size : The size of batches.\n",
        "        \n",
        "        Returns\n",
        "        -------\n",
        "            hidden_state\n",
        "            \n",
        "        \"\"\"\n",
        "        \n",
        "        weight = next(self.parameters()).data\n",
        "        \n",
        "        if train_on_gpu:\n",
        "            hidden = (weight.new(self.lstm_layers, batch_size, self.lstm_size).zero_().cuda(),\n",
        "                      weight.new(self.lstm_layers, batch_size, self.lstm_size).zero_().cuda())\n",
        "        else:\n",
        "            hidden = (weight.new(self.lstm_layers,batch_size, self.lstm_size).zero_(),\n",
        "                      weight.new(self.lstm_layers,batch_size, self.lstm_size).zero_())\n",
        "        \n",
        "        return hidden\n",
        "\n",
        "\n",
        "    def forward(self, nn_input, hidden_state):\n",
        "        \"\"\"\n",
        "        Perform a forward pass of our model on nn_input.\n",
        "        \n",
        "        Parameters\n",
        "        ----------\n",
        "            nn_input : The batch of input to the NN.\n",
        "            hidden_state : The LSTM hidden state.\n",
        "\n",
        "        Returns\n",
        "        -------\n",
        "            logps: log softmax output\n",
        "            hidden_state: The new hidden state.\n",
        "        \"\"\"\n",
        "        \n",
        "        embed = self.embedding (nn_input)\n",
        "        lstm_out, hidden_state = self.lstm(embed, hidden_state)\n",
        "        lstm_out = lstm_out[-1]\n",
        "        \n",
        "        logps = self.log_smax(self.dropout(self.fc(lstm_out)))\n",
        "        \n",
        "        return logps, hidden_state"
      ]
    },
    {
      "cell_type": "markdown",
      "metadata": {
        "id": "Oy7shEDDFVS9"
      },
      "source": [
        "### View Model"
      ]
    },
    {
      "cell_type": "code",
      "execution_count": 18,
      "metadata": {
        "id": "tb9Q9G6xFVS9",
        "colab": {
          "base_uri": "https://localhost:8080/"
        },
        "outputId": "500f8594-0874-4f48-a65c-c58db875918f"
      },
      "outputs": [
        {
          "output_type": "stream",
          "name": "stdout",
          "text": [
            "tensor([[-1.3983, -1.9213, -1.5688, -1.3755, -1.9273],\n",
            "        [-1.4355, -1.4345, -1.6521, -1.6242, -2.0019],\n",
            "        [-1.3791, -1.9333, -1.5766, -1.3791, -1.9307],\n",
            "        [-1.4419, -1.4419, -1.6354, -1.6336, -1.9883]],\n",
            "       grad_fn=<LogSoftmaxBackward0>)\n"
          ]
        }
      ],
      "source": [
        "model = TextClassifier(len(vocab), 10, 6, 5, dropout=0.1, lstm_layers=2)\n",
        "model.embedding.weight.data.uniform_(-1, 1)\n",
        "input = torch.randint(0, 1000, (5, 4), dtype=torch.int64)\n",
        "if train_on_gpu:\n",
        "    input = input.cuda()\n",
        "    model.cuda()\n",
        "\n",
        "hidden = model.init_hidden(4)\n",
        "\n",
        "logps, _ = model.forward(input, hidden)\n",
        "print(logps)"
      ]
    },
    {
      "cell_type": "markdown",
      "metadata": {
        "id": "4kciCiAlFVS9"
      },
      "source": [
        "## Training\n",
        "### DataLoaders and Batching\n",
        "Now we should build a generator that we can use to loop through our data. It'll be more efficient if we can pass our sequences in as batches. Our input tensors should look like `(sequence_length, batch_size)`. So if our sequences are 40 tokens long and we pass in 25 sequences, then we'd have an input size of `(40, 25)`.\n",
        "\n",
        "If we set our sequence length to 40, what do we do with messages that are more or less than 40 tokens? For messages with fewer than 40 tokens, we will pad the empty spots with zeros. We should be sure to **left** pad so that the RNN starts from nothing before going through the data. If the message has 20 tokens, then the first 20 spots of our 40 long sequence will be 0. If a message has more than 40 tokens, we'll just keep the first 40 tokens."
      ]
    },
    {
      "cell_type": "code",
      "execution_count": 19,
      "metadata": {
        "id": "XjrHltlOFVS-"
      },
      "outputs": [],
      "source": [
        "def dataloader(messages, labels, sequence_length=30, batch_size=32, shuffle=False):\n",
        "    \"\"\" \n",
        "    Build a dataloader.\n",
        "    \"\"\"\n",
        "    if shuffle:\n",
        "        indices = list(range(len(messages)))\n",
        "        random.shuffle(indices)\n",
        "        messages = [messages[idx] for idx in indices]\n",
        "        labels = [labels[idx] for idx in indices]\n",
        "\n",
        "    total_sequences = len(messages)\n",
        "\n",
        "    for ii in range(0, total_sequences, batch_size):\n",
        "        batch_messages = messages[ii: ii+batch_size]\n",
        "        \n",
        "        # First initialize a tensor of all zeros\n",
        "        batch = torch.zeros((sequence_length, len(batch_messages)), dtype=torch.int64)\n",
        "        for batch_num, tokens in enumerate(batch_messages):\n",
        "            token_tensor = torch.tensor(tokens)\n",
        "            # Left pad!\n",
        "            start_idx = max(sequence_length - len(token_tensor), 0)\n",
        "            batch[start_idx:, batch_num] = token_tensor[:sequence_length]\n",
        "        \n",
        "        label_tensor = torch.tensor(labels[ii: ii+len(batch_messages)])\n",
        "        \n",
        "        yield batch, label_tensor"
      ]
    },
    {
      "cell_type": "markdown",
      "metadata": {
        "id": "N3B3RCtEFVS-"
      },
      "source": [
        "### Training and  Validation\n",
        "With our data in nice shape, we'll split it into training and validation sets."
      ]
    },
    {
      "cell_type": "code",
      "execution_count": 20,
      "metadata": {
        "id": "Dt1GTwj4FVS-",
        "colab": {
          "base_uri": "https://localhost:8080/"
        },
        "outputId": "77339973-4537-43cd-cfa8-17d93f6bdb16"
      },
      "outputs": [
        {
          "output_type": "stream",
          "name": "stdout",
          "text": [
            "825584 103198\n"
          ]
        }
      ],
      "source": [
        "n_training = int(0.8 * len(token_ids))\n",
        "n_validation = int(0.1 * len(token_ids))\n",
        "\n",
        "train_features = token_ids[:n_training]\n",
        "valid_features = token_ids[n_training:n_training + n_validation]\n",
        "train_labels = sentiments[:n_training]\n",
        "valid_labels = sentiments[n_training:n_training + n_validation]\n",
        "\n",
        "print(len(train_features), len(valid_labels))"
      ]
    },
    {
      "cell_type": "code",
      "execution_count": 21,
      "metadata": {
        "id": "sW8AmdWRFVS-"
      },
      "outputs": [],
      "source": [
        "text_batch, labels = next(iter(dataloader(train_features, train_labels, sequence_length=40, batch_size=512)))\n",
        "\n",
        "model = TextClassifier(len(vocab)+1, 200, 128, 5, dropout=0.)\n",
        "hidden = model.init_hidden(512)\n",
        "if train_on_gpu:\n",
        "    text_batch = text_batch.cuda()\n",
        "    model.cuda()\n",
        "logps, hidden = model.forward(text_batch, hidden)"
      ]
    },
    {
      "cell_type": "markdown",
      "metadata": {
        "id": "c7ibE4gcFVS_"
      },
      "source": [
        "### Training\n",
        "It's time to train the neural network!"
      ]
    },
    {
      "cell_type": "code",
      "execution_count": 22,
      "metadata": {
        "id": "Zo4HTR5-FVS_",
        "colab": {
          "base_uri": "https://localhost:8080/"
        },
        "outputId": "9420de03-8640-45cf-fe4f-73bd72f98332"
      },
      "outputs": [
        {
          "output_type": "execute_result",
          "data": {
            "text/plain": [
              "TextClassifier(\n",
              "  (embedding): Embedding(98360, 1024)\n",
              "  (lstm): LSTM(1024, 512, num_layers=2, dropout=0.2)\n",
              "  (dropout): Dropout(p=0.3, inplace=False)\n",
              "  (fc): Linear(in_features=512, out_features=5, bias=True)\n",
              "  (log_smax): LogSoftmax(dim=1)\n",
              ")"
            ]
          },
          "metadata": {},
          "execution_count": 22
        }
      ],
      "source": [
        "device = torch.device(\"cuda\" if torch.cuda.is_available() else \"cpu\")\n",
        "\n",
        "model = TextClassifier(len(vocab)+1, 1024, 512, 5, lstm_layers=2, dropout=0.2)\n",
        "model.embedding.weight.data.uniform_(-1, 1)\n",
        "model.to(device)"
      ]
    },
    {
      "cell_type": "code",
      "execution_count": 23,
      "metadata": {
        "id": "n_de66p0inBX"
      },
      "outputs": [],
      "source": [
        "load_saved_model = True"
      ]
    },
    {
      "cell_type": "code",
      "execution_count": 24,
      "metadata": {
        "id": "RdZ5l_A-FVS_"
      },
      "outputs": [],
      "source": [
        "model_filename = \"modelExported\"\n",
        "if load_saved_model:\n",
        "    save_file_if_missing(model_filename)\n",
        "    if torch.cuda.is_available():\n",
        "        map_location=lambda storage, loc: storage.cuda()\n",
        "    else:\n",
        "        map_location='cpu'\n",
        "    model.load_state_dict(torch.load(model_filename, map_location=map_location))\n",
        "    model.eval()\n",
        "else:\n",
        "    \"\"\"\n",
        "    Train your model with dropout. Make sure to clip your gradients.\n",
        "    Print the training loss, validation loss, and validation accuracy for every 100 steps.\n",
        "    \"\"\"\n",
        "\n",
        "    epochs = 2\n",
        "    batch_size = 512\n",
        "    sequence_length = 40\n",
        "    learning_rate = 0.003\n",
        "    clip = 5\n",
        "    best_val_acc = 0\n",
        "\n",
        "    print_every = 100\n",
        "    criterion = nn.NLLLoss()\n",
        "    optimizer = optim.Adam(model.parameters(), lr=learning_rate)\n",
        "    model.train()\n",
        "\n",
        "    for epoch in range(epochs):\n",
        "        print('Starting epoch {}'.format(epoch + 1))\n",
        "\n",
        "        steps = 0\n",
        "        hidden = model.init_hidden(batch_size)\n",
        "\n",
        "        for text_batch, labels in dataloader(\n",
        "                train_features, train_labels, batch_size=batch_size, sequence_length=sequence_length, shuffle=True):\n",
        "            if text_batch.size()!=torch.Size([sequence_length,batch_size]):\n",
        "                continue\n",
        "            steps += 1\n",
        "            hidden = tuple([each.data for each in hidden])\n",
        "\n",
        "            # Set Device\n",
        "            text_batch, labels = text_batch.to(device), labels.to(device)\n",
        "            for each in hidden:\n",
        "                each.to(device)\n",
        "\n",
        "            model.zero_grad()\n",
        "            log_ps, hidden = model.forward(text_batch, hidden)\n",
        "            loss = criterion(log_ps, labels)\n",
        "            loss.backward()\n",
        "            nn.utils.clip_grad_norm_(model.parameters(), clip)\n",
        "            optimizer.step()\n",
        "\n",
        "            if steps % print_every == 0:\n",
        "                model.eval()\n",
        "                val_losses = []\n",
        "                val_accuracy = []\n",
        "                val_hidden = model.init_hidden(batch_size)\n",
        "\n",
        "                for val_text_batch, val_labels in dataloader(\n",
        "                valid_features, valid_labels, batch_size = batch_size, sequence_length = sequence_length):\n",
        "                    if val_text_batch.size() != torch.Size([sequence_length, batch_size]):\n",
        "                        continue\n",
        "                    val_text_batch, val_labels = val_text_batch.to(device), val_labels.to(device)\n",
        "                    val_hidden = tuple([each.data for each in val_hidden])\n",
        "                    for each in val_hidden:\n",
        "                        each.to(device)\n",
        "                    val_log_ps, hidden = model.forward(val_text_batch, val_hidden)\n",
        "\n",
        "                    val_loss = criterion(val_log_ps.squeeze(), val_labels)\n",
        "                    val_losses.append(val_loss.item())\n",
        "\n",
        "                    val_ps = torch.exp(val_log_ps)\n",
        "                    top_p, top_class = val_ps.topk(1, dim=1)\n",
        "                    equals = top_class == val_labels.view(*top_class.shape)\n",
        "                    val_accuracy.append(torch.mean(equals.type(torch.FloatTensor)).item())\n",
        "\n",
        "                # Print metrics\n",
        "                model.train()\n",
        "                this_val_acc = sum(val_accuracy)/len(val_accuracy)\n",
        "\n",
        "                print(\"Epoch:{}/{}...\".format(epoch+1, epochs),\n",
        "                      \"Step:{}...\".format(steps),\n",
        "                      \"Loss:{:.6f}...\".format(loss.item()),\n",
        "                      \"Val Loss:{:.6f}...\".format(sum(val_losses)/len(val_losses)),\n",
        "                      \"Val Accuracy:{:.6f}...\".format(this_val_acc))\n",
        "\n",
        "    torch.save(model.state_dict(), \"modelExported\")"
      ]
    },
    {
      "cell_type": "markdown",
      "metadata": {
        "id": "yA5_0Cc-FVS_"
      },
      "source": [
        "## Making Predictions\n",
        "### Prediction \n",
        "Okay, now that you have a trained model, try it on some new twits and see if it works appropriately. Remember that for any new text, you'll need to preprocess it first before passing it to the network. Implement the `predict` function to generate the prediction vector from a message."
      ]
    },
    {
      "cell_type": "code",
      "execution_count": 25,
      "metadata": {
        "id": "EMX5MQEAFVS_"
      },
      "outputs": [],
      "source": [
        "def predict(text, model, vocab):\n",
        "    \"\"\" \n",
        "    Make a prediction on a single sentence.\n",
        "\n",
        "    Parameters\n",
        "    ----------\n",
        "        text : The string to make a prediction on.\n",
        "        model : The model to use for making the prediction.\n",
        "        vocab : Dictionary for word to word ids. The key is the word and the value is the word id.\n",
        "\n",
        "    Returns\n",
        "    -------\n",
        "        pred : Prediction vector\n",
        "    \"\"\" \n",
        "    \n",
        "    tokens = preprocess(text)\n",
        "    \n",
        "    # Filter non-vocab words\n",
        "    tokens = [word for word in tokens if word in filtered_words]\n",
        "    \n",
        "    # Convert words to ids\n",
        "    tokens = [vocab[word] for word in tokens]\n",
        "        \n",
        "    # Adding a batch dimension\n",
        "    text_input = torch.tensor(tokens).unsqueeze(1)\n",
        "\n",
        "    # Get the NN output\n",
        "    hidden = model.init_hidden(text_input.size(1))\n",
        "    logps, _ = model.forward(text_input,hidden)\n",
        "    \n",
        "    # Take the exponent of the NN output to get a range of 0 to 1 for each label.\n",
        "    pred = torch.exp(logps)\n",
        "    \n",
        "    return pred.detach().numpy()"
      ]
    },
    {
      "cell_type": "code",
      "execution_count": 26,
      "metadata": {
        "id": "12-spDHRFVS_",
        "colab": {
          "base_uri": "https://localhost:8080/"
        },
        "outputId": "b0768399-d141-47ab-8a52-e5bc56146d8c"
      },
      "outputs": [
        {
          "output_type": "execute_result",
          "data": {
            "text/plain": [
              "array([[0.00165513, 0.01890535, 0.0102195 , 0.6906754 , 0.2785446 ]],\n",
              "      dtype=float32)"
            ]
          },
          "metadata": {},
          "execution_count": 26
        }
      ],
      "source": [
        "text = \"Google is working on self driving cars, I'm bullish on $goog\"\n",
        "model.eval()\n",
        "model.to(\"cpu\")\n",
        "predict(text, model, vocab)"
      ]
    },
    {
      "cell_type": "markdown",
      "source": [
        "You can see that the prediction returns a probability of 69% for the \"positive\" class and 28% for the \"very positive\" class."
      ],
      "metadata": {
        "id": "Dc3vasZxJOlE"
      }
    }
  ],
  "metadata": {
    "colab": {
      "collapsed_sections": [],
      "name": "twits-sentiment-analysis.ipynb",
      "provenance": []
    },
    "gpuClass": "standard",
    "kernelspec": {
      "display_name": "Python 3",
      "language": "python",
      "name": "python3"
    },
    "language_info": {
      "codemirror_mode": {
        "name": "ipython",
        "version": 3
      },
      "file_extension": ".py",
      "mimetype": "text/x-python",
      "name": "python",
      "nbconvert_exporter": "python",
      "pygments_lexer": "ipython3",
      "version": "3.6.3"
    }
  },
  "nbformat": 4,
  "nbformat_minor": 0
}